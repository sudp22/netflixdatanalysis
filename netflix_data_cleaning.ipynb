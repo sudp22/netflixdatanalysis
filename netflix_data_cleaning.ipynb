{
  "nbformat": 4,
  "nbformat_minor": 0,
  "metadata": {
    "colab": {
      "provenance": []
    },
    "kernelspec": {
      "name": "python3",
      "display_name": "Python 3"
    },
    "language_info": {
      "name": "python"
    }
  },
  "cells": [
    {
      "cell_type": "markdown",
      "source": [
        "Import and Load DataSet\n"
      ],
      "metadata": {
        "id": "0WKKzNAWmVG-"
      }
    },
    {
      "cell_type": "code",
      "execution_count": 2,
      "metadata": {
        "id": "pKoLgZ0DYID6"
      },
      "outputs": [],
      "source": [
        "import pandas as pd\n",
        "df=pd.read_csv(\"netflix_titles.csv\") # Load dataset"
      ]
    },
    {
      "cell_type": "code",
      "source": [
        "df.head() #first 5 rows of dataset"
      ],
      "metadata": {
        "id": "A6TC_8zy1RJP"
      },
      "execution_count": null,
      "outputs": []
    },
    {
      "cell_type": "markdown",
      "source": [
        "Checking for Null values\n"
      ],
      "metadata": {
        "id": "iOkjFuHtmiC8"
      }
    },
    {
      "cell_type": "code",
      "source": [
        "print(df.isnull().values.any())# Check for missing values"
      ],
      "metadata": {
        "id": "ib_4pQxSY36X",
        "collapsed": true
      },
      "execution_count": null,
      "outputs": []
    },
    {
      "cell_type": "code",
      "source": [
        "print(df.isnull().sum())# Null values in each column"
      ],
      "metadata": {
        "id": "KxDa7JLAZU_c"
      },
      "execution_count": null,
      "outputs": []
    },
    {
      "cell_type": "code",
      "source": [
        "df.shape[0]#shape of data"
      ],
      "metadata": {
        "id": "l6qzLPVTcxEV"
      },
      "execution_count": null,
      "outputs": []
    },
    {
      "cell_type": "markdown",
      "source": [
        "Filling in Null values"
      ],
      "metadata": {
        "id": "l-2-n9Xtmvdt"
      }
    },
    {
      "cell_type": "code",
      "source": [
        "#filling Null values with Unknown\n",
        "df['director'].fillna('Unknown',inplace=True)\n",
        "df['cast'].fillna('Unknown',inplace=True)\n",
        "df['country'].fillna('Unknown',inplace=True)\n",
        "df['duration'].fillna('Unknown',inplace=True)\n",
        "#dropping Null values(because the number of such rows is very small and won’t significantly affect the analysis)\n",
        "df.dropna(subset=['date_added'],inplace=True)\n",
        "df.dropna(subset=['rating'],inplace=True)"
      ],
      "metadata": {
        "id": "pt8mY4NsbNCr"
      },
      "execution_count": null,
      "outputs": []
    },
    {
      "cell_type": "code",
      "source": [
        "df.head()#first 5 rows of dataset"
      ],
      "metadata": {
        "id": "Kq-qLqZzciHt"
      },
      "execution_count": null,
      "outputs": []
    },
    {
      "cell_type": "code",
      "source": [
        "df.shape[0]#shape of data after cleaning"
      ],
      "metadata": {
        "id": "BYIZZqcGcsrN"
      },
      "execution_count": null,
      "outputs": []
    },
    {
      "cell_type": "code",
      "source": [
        "df.info()#Check dataset summary after cleaning"
      ],
      "metadata": {
        "id": "fj8SmTUSc4vL"
      },
      "execution_count": null,
      "outputs": []
    },
    {
      "cell_type": "markdown",
      "source": [
        "Save and Download new DataSet after cleaning"
      ],
      "metadata": {
        "id": "CCHuxxd3nv8m"
      }
    },
    {
      "cell_type": "code",
      "source": [
        "# Modify the show_id column to ensure sequential IDs after dropping null values\n",
        "df['show_id'] = ['s' + str(i+1) for i in range(len(df))]"
      ],
      "metadata": {
        "id": "WX5FhRg7gkYf"
      },
      "execution_count": null,
      "outputs": []
    },
    {
      "cell_type": "code",
      "source": [
        "# Save the cleaned DataFrame to a new CSV file\n",
        "df.to_csv(\"netflix_titles_cleaned.csv\",index=False)\n",
        "# Download the cleaned CSV file from Google Colab environment\n",
        "from google.colab import files\n",
        "files.download(\"netflix_titles_cleaned.csv\")"
      ],
      "metadata": {
        "id": "o1kb1F46c7tk"
      },
      "execution_count": null,
      "outputs": []
    }
  ]
}